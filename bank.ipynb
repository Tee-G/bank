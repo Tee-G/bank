{
 "cells": [
  {
   "cell_type": "code",
   "execution_count": 1,
   "id": "ab55422a-f564-4303-965f-bfc6b609455c",
   "metadata": {},
   "outputs": [
    {
     "name": "stdin",
     "output_type": "stream",
     "text": [
      "enter your name:  ugane ozemoya thankgod\n",
      "enter your password:  ozemoya123\n"
     ]
    },
    {
     "name": "stdout",
     "output_type": "stream",
     "text": [
      "1.deposit\n",
      "2.withdraw\n",
      "3.current balance\n"
     ]
    },
    {
     "name": "stdin",
     "output_type": "stream",
     "text": [
      "what do you want to do:  1\n",
      "how much do you want to deposit?:  500\n"
     ]
    },
    {
     "name": "stdout",
     "output_type": "stream",
     "text": [
      "your new balance is 3000\n"
     ]
    }
   ],
   "source": [
    "\n",
    "class bankaccount():\n",
    "    pass\n",
    "    def show(self):\n",
    "        name=\"ugane ozemoya thankgod\"\n",
    "        password=\"ozemoya123\"\n",
    "        currentbalance=2500\n",
    "        requestname=input(\"enter your name: \")\n",
    "        if requestname==name:\n",
    "            requestpassword=input(\"enter your password: \")\n",
    "            if requestpassword==password:\n",
    "                print(\"1.deposit\")\n",
    "                print(\"2.withdraw\")\n",
    "                print(\"3.current balance\")\n",
    "                while True:\n",
    "                    choice=input(\"what do you want to do: \")\n",
    "                    if choice==\"1\":\n",
    "                        deposit=int(input(\"how much do you want to deposit?: \"))\n",
    "                        if deposit>0:\n",
    "                            x=deposit+currentbalance\n",
    "                            print(\"your new balance is\", x)\n",
    "                            break\n",
    "                        else:\n",
    "                            print(\"amount cannot be less than 0\")\n",
    "                            deposit=int(input(\"how much do you want to deposit?: \"))\n",
    "                    if choice==\"2\":\n",
    "                        withdraw=int(input(\"how much do you want to withdraw?: \"))\n",
    "                        if withdraw<=currentbalance:\n",
    "                            y=currentbalance-withdraw\n",
    "                            print(\"your new balance is \",y)\n",
    "                            break\n",
    "                        else:\n",
    "                            print(\"sorry but you cannot withdraw more than your current balance\")\n",
    "                            withdraw=int(input(\"how much do you want to withdraw?: \"))\n",
    "                    if choice==\"3\":\n",
    "                        print(currentbalance)\n",
    "                        break\n",
    "q=bankaccount() \n",
    "q.show()"
   ]
  },
  {
   "cell_type": "code",
   "execution_count": null,
   "id": "8fb4e957-fcfa-4490-b618-81c0c0d910c8",
   "metadata": {},
   "outputs": [],
   "source": []
  }
 ],
 "metadata": {
  "kernelspec": {
   "display_name": "Python 3 (ipykernel)",
   "language": "python",
   "name": "python3"
  },
  "language_info": {
   "codemirror_mode": {
    "name": "ipython",
    "version": 3
   },
   "file_extension": ".py",
   "mimetype": "text/x-python",
   "name": "python",
   "nbconvert_exporter": "python",
   "pygments_lexer": "ipython3",
   "version": "3.9.12"
  }
 },
 "nbformat": 4,
 "nbformat_minor": 5
}
